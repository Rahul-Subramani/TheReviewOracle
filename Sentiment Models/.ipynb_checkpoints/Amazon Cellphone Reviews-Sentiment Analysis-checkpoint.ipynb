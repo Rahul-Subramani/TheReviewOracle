{
 "cells": [
  {
   "cell_type": "markdown",
   "metadata": {
    "colab_type": "text",
    "id": "Z22u10bC71mn"
   },
   "source": [
    "# Aim: Predict Rating from Review using basic and deep models\n",
    "\n",
    "- keras-\n",
    "- mlp\n",
    "- lstm\n",
    "- cnn"
   ]
  },
  {
   "cell_type": "code",
   "execution_count": 0,
   "metadata": {
    "colab": {},
    "colab_type": "code",
    "id": "HV7AVrnO1mGm"
   },
   "outputs": [],
   "source": [
    "!pip install -U -q PyDrive\n",
    "import os\n",
    "from pydrive.auth import GoogleAuth\n",
    "from pydrive.drive import GoogleDrive\n",
    "from google.colab import auth\n",
    "from oauth2client.client import GoogleCredentials\n",
    "\n",
    "# 1. Authenticate and create the PyDrive client.\n",
    "auth.authenticate_user()\n",
    "gauth = GoogleAuth()\n",
    "gauth.credentials = GoogleCredentials.get_application_default()\n",
    "drive = GoogleDrive(gauth)"
   ]
  },
  {
   "cell_type": "code",
   "execution_count": 0,
   "metadata": {
    "colab": {
     "base_uri": "https://localhost:8080/",
     "height": 35
    },
    "colab_type": "code",
    "executionInfo": {
     "elapsed": 6705,
     "status": "ok",
     "timestamp": 1551118095511,
     "user": {
      "displayName": "Sajjad Salaria",
      "photoUrl": "https://lh5.googleusercontent.com/-FVhdIz1k0r0/AAAAAAAAAAI/AAAAAAAAAPw/PHOxTvcgljo/s64/photo.jpg",
      "userId": "14627571170734727312"
     },
     "user_tz": -330
    },
    "id": "xIED3ctn1oKp",
    "outputId": "cade224e-3dc0-4777-ba95-8f69914064ba"
   },
   "outputs": [
    {
     "name": "stderr",
     "output_type": "stream",
     "text": [
      "Using TensorFlow backend.\n"
     ]
    }
   ],
   "source": [
    "import re\n",
    "import nltk\n",
    "\n",
    "import pandas as pd\n",
    "import numpy as np\n",
    "\n",
    "from bs4 import BeautifulSoup\n",
    "from nltk.corpus import stopwords\n",
    "from nltk.stem.porter import PorterStemmer\n",
    "english_stemmer=nltk.stem.SnowballStemmer('english')\n",
    "\n",
    "from sklearn.feature_selection.univariate_selection import SelectKBest, chi2, f_classif\n",
    "from sklearn.model_selection import train_test_split\n",
    "from sklearn.feature_extraction.text import TfidfVectorizer\n",
    "from sklearn.linear_model import SGDClassifier, SGDRegressor\n",
    "from sklearn.ensemble import RandomForestClassifier, GradientBoostingClassifier\n",
    "from sklearn.naive_bayes import MultinomialNB\n",
    "from sklearn.metrics import accuracy_score, classification_report, confusion_matrix\n",
    "import random\n",
    "import itertools\n",
    "\n",
    "import sys\n",
    "import os\n",
    "import argparse\n",
    "from sklearn.pipeline import Pipeline\n",
    "from scipy.sparse import csr_matrix\n",
    "from sklearn.feature_extraction.text import CountVectorizer\n",
    "import six\n",
    "from abc import ABCMeta\n",
    "from scipy import sparse\n",
    "from scipy.sparse import issparse\n",
    "from sklearn.base import BaseEstimator, ClassifierMixin\n",
    "from sklearn.utils import check_X_y, check_array\n",
    "from sklearn.utils.extmath import safe_sparse_dot\n",
    "from sklearn.preprocessing import normalize, binarize, LabelBinarizer\n",
    "from sklearn.svm import LinearSVC\n",
    "\n",
    "from keras.preprocessing import sequence\n",
    "from keras.utils import np_utils\n",
    "from keras.models import Sequential\n",
    "from keras.layers.core import Dense, Dropout, Activation, Lambda\n",
    "from keras.layers.embeddings import Embedding\n",
    "from keras.layers.recurrent import LSTM, SimpleRNN, GRU\n",
    "from keras.preprocessing.text import Tokenizer\n",
    "from collections import defaultdict\n",
    "from keras.layers.convolutional import Convolution1D\n",
    "from keras import backend as K\n",
    "\n",
    "import seaborn as sns\n",
    "import matplotlib.pyplot as plt\n",
    "from matplotlib import cm\n",
    "%matplotlib inline\n",
    "plt.style.use('ggplot')"
   ]
  },
  {
   "cell_type": "code",
   "execution_count": 0,
   "metadata": {
    "colab": {
     "base_uri": "https://localhost:8080/",
     "height": 69
    },
    "colab_type": "code",
    "executionInfo": {
     "elapsed": 1607,
     "status": "ok",
     "timestamp": 1551118309698,
     "user": {
      "displayName": "Sajjad Salaria",
      "photoUrl": "https://lh5.googleusercontent.com/-FVhdIz1k0r0/AAAAAAAAAAI/AAAAAAAAAPw/PHOxTvcgljo/s64/photo.jpg",
      "userId": "14627571170734727312"
     },
     "user_tz": -330
    },
    "id": "3kb6Ex9d2rCp",
    "outputId": "85dc8271-e0b7-4aa1-8813-eaca56112c8e"
   },
   "outputs": [
    {
     "name": "stdout",
     "output_type": "stream",
     "text": [
      "[nltk_data] Downloading package stopwords to /root/nltk_data...\n",
      "[nltk_data]   Unzipping corpora/stopwords.zip.\n"
     ]
    },
    {
     "data": {
      "text/plain": [
       "True"
      ]
     },
     "execution_count": 17,
     "metadata": {
      "tags": []
     },
     "output_type": "execute_result"
    }
   ],
   "source": [
    "import nltk\n",
    "nltk.download('stopwords')"
   ]
  },
  {
   "cell_type": "code",
   "execution_count": 0,
   "metadata": {
    "colab": {
     "base_uri": "https://localhost:8080/",
     "height": 72
    },
    "colab_type": "code",
    "executionInfo": {
     "elapsed": 5414,
     "status": "ok",
     "timestamp": 1551118104539,
     "user": {
      "displayName": "Sajjad Salaria",
      "photoUrl": "https://lh5.googleusercontent.com/-FVhdIz1k0r0/AAAAAAAAAAI/AAAAAAAAAPw/PHOxTvcgljo/s64/photo.jpg",
      "userId": "14627571170734727312"
     },
     "user_tz": -330
    },
    "id": "dmBrXYyF16qI",
    "outputId": "a20c9d32-dfb7-4ca6-fc90-cc4154d901f8"
   },
   "outputs": [
    {
     "name": "stdout",
     "output_type": "stream",
     "text": [
      "Requirement already satisfied: easycolab in /usr/local/lib/python3.6/dist-packages (0.1b19)\n",
      "Drive already mounted at /content/gdrive; to attempt to forcibly remount, call drive.mount(\"/content/gdrive\", force_remount=True).\n"
     ]
    }
   ],
   "source": [
    "!pip install easycolab\n",
    "import easycolab as ec\n",
    "ec.mount()\n",
    "ec.openmydrive()"
   ]
  },
  {
   "cell_type": "code",
   "execution_count": 0,
   "metadata": {
    "colab": {},
    "colab_type": "code",
    "id": "74IOMtVC1-I6"
   },
   "outputs": [],
   "source": [
    "def review_to_wordlist( review, remove_stopwords=True):\n",
    "    # Function to convert a document to a sequence of words,\n",
    "    # optionally removing stop words.  Returns a list of words.\n",
    "    #\n",
    "    # 1. Remove HTML\n",
    "    review_text = BeautifulSoup(review).get_text()\n",
    "\n",
    "    #\n",
    "    # 2. Remove non-letters\n",
    "    review_text = re.sub(\"[^a-zA-Z]\",\" \", review)\n",
    "    #\n",
    "    # 3. Convert words to lower case and split them\n",
    "    words = review_text.lower().split()\n",
    "    #\n",
    "    # 4. Optionally remove stop words (True by default)\n",
    "    if remove_stopwords:\n",
    "        stops = set(stopwords.words(\"english\"))\n",
    "        words = [w for w in words if not w in stops]\n",
    "\n",
    "    b=[]\n",
    "    stemmer = english_stemmer #PorterStemmer()\n",
    "    for word in words:\n",
    "        b.append(stemmer.stem(word))\n",
    "\n",
    "    # 5. Return a list of words\n",
    "    return(b)"
   ]
  },
  {
   "cell_type": "code",
   "execution_count": 0,
   "metadata": {
    "colab": {},
    "colab_type": "code",
    "id": "aDZQOA-h2G_O"
   },
   "outputs": [],
   "source": [
    "data_file = 'Amazon_Unlocked_Mobile.csv'\n",
    "\n",
    "n = 413000  \n",
    "s = 20000 \n",
    "skip = sorted(random.sample(range(1,n),n-s))\n",
    "\n",
    "\n",
    "data = pd.read_csv( data_file, delimiter = \",\", skiprows = skip)"
   ]
  },
  {
   "cell_type": "code",
   "execution_count": 0,
   "metadata": {
    "colab": {
     "base_uri": "https://localhost:8080/",
     "height": 35
    },
    "colab_type": "code",
    "executionInfo": {
     "elapsed": 1227,
     "status": "ok",
     "timestamp": 1551118172991,
     "user": {
      "displayName": "Sajjad Salaria",
      "photoUrl": "https://lh5.googleusercontent.com/-FVhdIz1k0r0/AAAAAAAAAAI/AAAAAAAAAPw/PHOxTvcgljo/s64/photo.jpg",
      "userId": "14627571170734727312"
     },
     "user_tz": -330
    },
    "id": "q6FwGU8u2Mxv",
    "outputId": "d8920a48-5e03-4a5b-f492-32a1b15e7986"
   },
   "outputs": [
    {
     "data": {
      "text/plain": [
       "(20840, 6)"
      ]
     },
     "execution_count": 6,
     "metadata": {
      "tags": []
     },
     "output_type": "execute_result"
    }
   ],
   "source": [
    "data.shape"
   ]
  },
  {
   "cell_type": "code",
   "execution_count": 0,
   "metadata": {
    "colab": {
     "base_uri": "https://localhost:8080/",
     "height": 538
    },
    "colab_type": "code",
    "executionInfo": {
     "elapsed": 1200,
     "status": "ok",
     "timestamp": 1551119886842,
     "user": {
      "displayName": "Sajjad Salaria",
      "photoUrl": "https://lh5.googleusercontent.com/-FVhdIz1k0r0/AAAAAAAAAAI/AAAAAAAAAPw/PHOxTvcgljo/s64/photo.jpg",
      "userId": "14627571170734727312"
     },
     "user_tz": -330
    },
    "id": "dLPYkPA08B1F",
    "outputId": "cff7b7db-9fb3-4ef8-c72c-1120f374a953"
   },
   "outputs": [
    {
     "data": {
      "text/html": [
       "<div>\n",
       "<style scoped>\n",
       "    .dataframe tbody tr th:only-of-type {\n",
       "        vertical-align: middle;\n",
       "    }\n",
       "\n",
       "    .dataframe tbody tr th {\n",
       "        vertical-align: top;\n",
       "    }\n",
       "\n",
       "    .dataframe thead th {\n",
       "        text-align: right;\n",
       "    }\n",
       "</style>\n",
       "<table border=\"1\" class=\"dataframe\">\n",
       "  <thead>\n",
       "    <tr style=\"text-align: right;\">\n",
       "      <th></th>\n",
       "      <th>Product Name</th>\n",
       "      <th>Brand Name</th>\n",
       "      <th>Price</th>\n",
       "      <th>Rating</th>\n",
       "      <th>Reviews</th>\n",
       "      <th>Review Votes</th>\n",
       "    </tr>\n",
       "  </thead>\n",
       "  <tbody>\n",
       "    <tr>\n",
       "      <th>0</th>\n",
       "      <td>\"Nokia Asha 302 Unlocked GSM Phone with 3.2MP ...</td>\n",
       "      <td>Nokia</td>\n",
       "      <td>299.00</td>\n",
       "      <td>5</td>\n",
       "      <td>I've been a long time user of the iPhone. I fi...</td>\n",
       "      <td>2.0</td>\n",
       "    </tr>\n",
       "    <tr>\n",
       "      <th>1</th>\n",
       "      <td>\"Nokia Asha 302 Unlocked GSM Phone with 3.2MP ...</td>\n",
       "      <td>Nokia</td>\n",
       "      <td>299.00</td>\n",
       "      <td>5</td>\n",
       "      <td>Ver Good!</td>\n",
       "      <td>0.0</td>\n",
       "    </tr>\n",
       "    <tr>\n",
       "      <th>2</th>\n",
       "      <td>(LANDVO) 5.0\" Capacitive Touch MTK6582 Quad Co...</td>\n",
       "      <td>HTM</td>\n",
       "      <td>69.99</td>\n",
       "      <td>5</td>\n",
       "      <td>phone works great for the price although when ...</td>\n",
       "      <td>1.0</td>\n",
       "    </tr>\n",
       "    <tr>\n",
       "      <th>3</th>\n",
       "      <td>[XMAS DEAL] [New Edition] Jethro [SC213V2] Fli...</td>\n",
       "      <td>Jethro</td>\n",
       "      <td>79.99</td>\n",
       "      <td>5</td>\n",
       "      <td>Bought for my mom! She loves it!</td>\n",
       "      <td>8.0</td>\n",
       "    </tr>\n",
       "    <tr>\n",
       "      <th>4</th>\n",
       "      <td>[XMAS DEAL] Jethro [SC118] Simple Unlocked Qua...</td>\n",
       "      <td>Jethro</td>\n",
       "      <td>59.99</td>\n",
       "      <td>5</td>\n",
       "      <td>Great phone!</td>\n",
       "      <td>0.0</td>\n",
       "    </tr>\n",
       "    <tr>\n",
       "      <th>5</th>\n",
       "      <td>[XMAS DEAL] Jethro [SC118] Simple Unlocked Qua...</td>\n",
       "      <td>Jethro</td>\n",
       "      <td>59.99</td>\n",
       "      <td>5</td>\n",
       "      <td>Great simple to use phone for my mother. Big b...</td>\n",
       "      <td>1.0</td>\n",
       "    </tr>\n",
       "    <tr>\n",
       "      <th>6</th>\n",
       "      <td>[XMAS DEAL] Jethro [SC118] Simple Unlocked Qua...</td>\n",
       "      <td>Jethro</td>\n",
       "      <td>59.99</td>\n",
       "      <td>4</td>\n",
       "      <td>I bought it for my mom who is in her late 70s ...</td>\n",
       "      <td>20.0</td>\n",
       "    </tr>\n",
       "    <tr>\n",
       "      <th>7</th>\n",
       "      <td>[XMAS DEAL] Jethro [SC118] Simple Unlocked Qua...</td>\n",
       "      <td>Jethro</td>\n",
       "      <td>59.99</td>\n",
       "      <td>1</td>\n",
       "      <td>Stopped working after a month of use.</td>\n",
       "      <td>0.0</td>\n",
       "    </tr>\n",
       "    <tr>\n",
       "      <th>8</th>\n",
       "      <td>[XMAS DEAL] Jethro [SC118] Simple Unlocked Qua...</td>\n",
       "      <td>Jethro</td>\n",
       "      <td>59.99</td>\n",
       "      <td>2</td>\n",
       "      <td>I bought this phone as a simple option for my ...</td>\n",
       "      <td>0.0</td>\n",
       "    </tr>\n",
       "    <tr>\n",
       "      <th>9</th>\n",
       "      <td>[XMAS DEAL] Jethro [SC118] Simple Unlocked Qua...</td>\n",
       "      <td>Jethro</td>\n",
       "      <td>59.99</td>\n",
       "      <td>2</td>\n",
       "      <td>The speakers are garbage and it only tells tim...</td>\n",
       "      <td>0.0</td>\n",
       "    </tr>\n",
       "  </tbody>\n",
       "</table>\n",
       "</div>"
      ],
      "text/plain": [
       "                                        Product Name Brand Name   Price  \\\n",
       "0  \"Nokia Asha 302 Unlocked GSM Phone with 3.2MP ...      Nokia  299.00   \n",
       "1  \"Nokia Asha 302 Unlocked GSM Phone with 3.2MP ...      Nokia  299.00   \n",
       "2  (LANDVO) 5.0\" Capacitive Touch MTK6582 Quad Co...        HTM   69.99   \n",
       "3  [XMAS DEAL] [New Edition] Jethro [SC213V2] Fli...     Jethro   79.99   \n",
       "4  [XMAS DEAL] Jethro [SC118] Simple Unlocked Qua...     Jethro   59.99   \n",
       "5  [XMAS DEAL] Jethro [SC118] Simple Unlocked Qua...     Jethro   59.99   \n",
       "6  [XMAS DEAL] Jethro [SC118] Simple Unlocked Qua...     Jethro   59.99   \n",
       "7  [XMAS DEAL] Jethro [SC118] Simple Unlocked Qua...     Jethro   59.99   \n",
       "8  [XMAS DEAL] Jethro [SC118] Simple Unlocked Qua...     Jethro   59.99   \n",
       "9  [XMAS DEAL] Jethro [SC118] Simple Unlocked Qua...     Jethro   59.99   \n",
       "\n",
       "   Rating                                            Reviews  Review Votes  \n",
       "0       5  I've been a long time user of the iPhone. I fi...           2.0  \n",
       "1       5                                          Ver Good!           0.0  \n",
       "2       5  phone works great for the price although when ...           1.0  \n",
       "3       5                   Bought for my mom! She loves it!           8.0  \n",
       "4       5                                       Great phone!           0.0  \n",
       "5       5  Great simple to use phone for my mother. Big b...           1.0  \n",
       "6       4  I bought it for my mom who is in her late 70s ...          20.0  \n",
       "7       1              Stopped working after a month of use.           0.0  \n",
       "8       2  I bought this phone as a simple option for my ...           0.0  \n",
       "9       2  The speakers are garbage and it only tells tim...           0.0  "
      ]
     },
     "execution_count": 63,
     "metadata": {
      "tags": []
     },
     "output_type": "execute_result"
    }
   ],
   "source": [
    "data.head(10)"
   ]
  },
  {
   "cell_type": "code",
   "execution_count": 0,
   "metadata": {
    "colab": {},
    "colab_type": "code",
    "id": "OP9bOOVi2P3a"
   },
   "outputs": [],
   "source": [
    "data = data[data['Reviews'].isnull()==False]"
   ]
  },
  {
   "cell_type": "code",
   "execution_count": 0,
   "metadata": {
    "colab": {},
    "colab_type": "code",
    "id": "0OK2Q_NC2Rj2"
   },
   "outputs": [],
   "source": [
    "train, test = train_test_split(data, test_size = 0.3)"
   ]
  },
  {
   "cell_type": "code",
   "execution_count": 0,
   "metadata": {
    "colab": {},
    "colab_type": "code",
    "id": "miFaIItj2TWK"
   },
   "outputs": [],
   "source": [
    "## Labels Exploration"
   ]
  },
  {
   "cell_type": "code",
   "execution_count": 0,
   "metadata": {
    "colab": {
     "base_uri": "https://localhost:8080/",
     "height": 353
    },
    "colab_type": "code",
    "executionInfo": {
     "elapsed": 1186,
     "status": "ok",
     "timestamp": 1551118243492,
     "user": {
      "displayName": "Sajjad Salaria",
      "photoUrl": "https://lh5.googleusercontent.com/-FVhdIz1k0r0/AAAAAAAAAAI/AAAAAAAAAPw/PHOxTvcgljo/s64/photo.jpg",
      "userId": "14627571170734727312"
     },
     "user_tz": -330
    },
    "id": "DBy-Kdh_2Vqy",
    "outputId": "b51152cf-0329-4393-ecd7-8e37ebdfdccb"
   },
   "outputs": [
    {
     "name": "stderr",
     "output_type": "stream",
     "text": [
      "/usr/local/lib/python3.6/dist-packages/seaborn/categorical.py:1428: FutureWarning: remove_na is deprecated and is a private function. Do not use.\n",
      "  stat_data = remove_na(group_data)\n"
     ]
    },
    {
     "data": {
      "text/plain": [
       "<matplotlib.axes._subplots.AxesSubplot at 0x7f3245663f98>"
      ]
     },
     "execution_count": 13,
     "metadata": {
      "tags": []
     },
     "output_type": "execute_result"
    },
    {
     "data": {
      "image/png": "[encoded data removed]",
      "text/plain": [
       "<Figure size 432x288 with 1 Axes>"
      ]
     },
     "metadata": {
      "tags": []
     },
     "output_type": "display_data"
    }
   ],
   "source": [
    "sns.countplot(data['Rating'])"
   ]
  },
  {
   "cell_type": "code",
   "execution_count": 0,
   "metadata": {
    "colab": {},
    "colab_type": "code",
    "id": "STgfgmlE2XIl"
   },
   "outputs": [],
   "source": [
    "### Apply Preprocessing"
   ]
  },
  {
   "cell_type": "code",
   "execution_count": 0,
   "metadata": {
    "colab": {
     "base_uri": "https://localhost:8080/",
     "height": 141
    },
    "colab_type": "code",
    "executionInfo": {
     "elapsed": 24432,
     "status": "ok",
     "timestamp": 1551118341330,
     "user": {
      "displayName": "Sajjad Salaria",
      "photoUrl": "https://lh5.googleusercontent.com/-FVhdIz1k0r0/AAAAAAAAAAI/AAAAAAAAAPw/PHOxTvcgljo/s64/photo.jpg",
      "userId": "14627571170734727312"
     },
     "user_tz": -330
    },
    "id": "0PPQtd8u2aME",
    "outputId": "4ea87b49-d99a-4611-f3ba-32a1f7243abe"
   },
   "outputs": [
    {
     "name": "stderr",
     "output_type": "stream",
     "text": [
      "/usr/local/lib/python3.6/dist-packages/bs4/__init__.py:336: UserWarning: \"http://www.amazon.com/gp/product/B013YDFH3Y?redirect=true&ref_=cm_cr_ryp_prd_ttl_sol_0\" looks like a URL. Beautiful Soup is not an HTTP client. You should probably use an HTTP client like requests to get the document behind the URL, and feed that document to Beautiful Soup.\n",
      "  ' that document to Beautiful Soup.' % decoded_markup\n",
      "/usr/local/lib/python3.6/dist-packages/bs4/__init__.py:336: UserWarning: \"https://www.amazon.com/dp/B00K15KRV6/ref=cm_cr_ryp_prd_ttl_sol_22\" looks like a URL. Beautiful Soup is not an HTTP client. You should probably use an HTTP client like requests to get the document behind the URL, and feed that document to Beautiful Soup.\n",
      "  ' that document to Beautiful Soup.' % decoded_markup\n",
      "/usr/local/lib/python3.6/dist-packages/bs4/__init__.py:336: UserWarning: \"https://www.amazon.com/dp/B00YD547Q6/ref=cm_cr_ryp_prd_ttl_sol_0\" looks like a URL. Beautiful Soup is not an HTTP client. You should probably use an HTTP client like requests to get the document behind the URL, and feed that document to Beautiful Soup.\n",
      "  ' that document to Beautiful Soup.' % decoded_markup\n"
     ]
    }
   ],
   "source": [
    "clean_train_reviews = []\n",
    "for review in train['Reviews']:\n",
    "    clean_train_reviews.append( \" \".join(review_to_wordlist(review)))\n",
    "    \n",
    "clean_test_reviews = []\n",
    "for review in test['Reviews']:\n",
    "    clean_test_reviews.append( \" \".join(review_to_wordlist(review)))"
   ]
  },
  {
   "cell_type": "code",
   "execution_count": 0,
   "metadata": {
    "colab": {},
    "colab_type": "code",
    "id": "FDbNAlpR2cGH"
   },
   "outputs": [],
   "source": [
    "vectorizer = TfidfVectorizer( min_df=2, max_df=0.95, max_features = 200000, ngram_range = ( 1, 4 ),\n",
    "                              sublinear_tf = True )\n",
    "\n",
    "vectorizer = vectorizer.fit(clean_train_reviews)\n",
    "train_features = vectorizer.transform(clean_train_reviews)\n",
    "\n",
    "test_features = vectorizer.transform(clean_test_reviews)"
   ]
  },
  {
   "cell_type": "code",
   "execution_count": 0,
   "metadata": {
    "colab": {},
    "colab_type": "code",
    "id": "ZZtckJBm28Ti"
   },
   "outputs": [],
   "source": [
    "fselect = SelectKBest(chi2 , k=10000)\n",
    "train_features = fselect.fit_transform(train_features, train[\"Rating\"])\n",
    "test_features = fselect.transform(test_features)"
   ]
  },
  {
   "cell_type": "code",
   "execution_count": 0,
   "metadata": {
    "colab": {
     "base_uri": "https://localhost:8080/",
     "height": 106
    },
    "colab_type": "code",
    "executionInfo": {
     "elapsed": 53564,
     "status": "ok",
     "timestamp": 1551118426118,
     "user": {
      "displayName": "Sajjad Salaria",
      "photoUrl": "https://lh5.googleusercontent.com/-FVhdIz1k0r0/AAAAAAAAAAI/AAAAAAAAAPw/PHOxTvcgljo/s64/photo.jpg",
      "userId": "14627571170734727312"
     },
     "user_tz": -330
    },
    "id": "wWVztbjc2_Zt",
    "outputId": "6ad82844-163c-4a73-f54e-6a47753357f3"
   },
   "outputs": [
    {
     "name": "stderr",
     "output_type": "stream",
     "text": [
      "/usr/local/lib/python3.6/dist-packages/sklearn/linear_model/stochastic_gradient.py:152: DeprecationWarning: n_iter parameter is deprecated in 0.19 and will be removed in 0.21. Use max_iter and tol instead.\n",
      "  DeprecationWarning)\n",
      "/usr/local/lib/python3.6/dist-packages/sklearn/ensemble/forest.py:246: FutureWarning: The default value of n_estimators will change from 10 in version 0.20 to 100 in 0.22.\n",
      "  \"10 in version 0.20 to 100 in 0.22.\", FutureWarning)\n"
     ]
    }
   ],
   "source": [
    "model1 = MultinomialNB(alpha=0.001)\n",
    "model1.fit( train_features, train[\"Rating\"] )\n",
    "\n",
    "model2 = SGDClassifier(loss='modified_huber', n_iter=5, random_state=0, shuffle=True)\n",
    "model2.fit( train_features, train[\"Rating\"] )\n",
    "\n",
    "model3 = RandomForestClassifier()\n",
    "model3.fit( train_features, train[\"Rating\"] )\n",
    "\n",
    "model4 = GradientBoostingClassifier()\n",
    "model4.fit( train_features, train[\"Rating\"] )\n",
    "\n",
    "pred_1 = model1.predict( test_features.toarray() )\n",
    "pred_2 = model2.predict( test_features.toarray() )\n",
    "pred_3 = model3.predict( test_features.toarray() )\n",
    "pred_4 = model4.predict( test_features.toarray() )"
   ]
  },
  {
   "cell_type": "code",
   "execution_count": 0,
   "metadata": {
    "colab": {},
    "colab_type": "code",
    "id": "ZLBsDy4V3A4B"
   },
   "outputs": [],
   "source": [
    "class NBSVM(six.with_metaclass(ABCMeta, BaseEstimator, ClassifierMixin)):\n",
    "\n",
    "    def __init__(self, alpha=1.0, C=1.0, max_iter=10000):\n",
    "        self.alpha = alpha\n",
    "        self.max_iter = max_iter\n",
    "        self.C = C\n",
    "        self.svm_ = [] # fuggly\n",
    "\n",
    "    def fit(self, X, y):\n",
    "        X, y = check_X_y(X, y, 'csr')\n",
    "        _, n_features = X.shape\n",
    "\n",
    "        labelbin = LabelBinarizer()\n",
    "        Y = labelbin.fit_transform(y)\n",
    "        self.classes_ = labelbin.classes_\n",
    "        if Y.shape[1] == 1:\n",
    "            Y = np.concatenate((1 - Y, Y), axis=1)\n",
    "\n",
    "        # LabelBinarizer().fit_transform() returns arrays with dtype=np.int64.\n",
    "        # so we don't have to cast X to floating point\n",
    "        Y = Y.astype(np.float64)\n",
    "\n",
    "        # Count raw events from data\n",
    "        n_effective_classes = Y.shape[1]\n",
    "        self.class_count_ = np.zeros(n_effective_classes, dtype=np.float64)\n",
    "        self.ratios_ = np.full((n_effective_classes, n_features), self.alpha,\n",
    "                                 dtype=np.float64)\n",
    "        self._compute_ratios(X, Y)\n",
    "\n",
    "        # flugglyness\n",
    "        for i in range(n_effective_classes):\n",
    "            X_i = X.multiply(self.ratios_[i])\n",
    "            svm = LinearSVC(C=self.C, max_iter=self.max_iter)\n",
    "            Y_i = Y[:,i]\n",
    "            svm.fit(X_i, Y_i)\n",
    "            self.svm_.append(svm) \n",
    "\n",
    "        return self\n",
    "\n",
    "    def predict(self, X):\n",
    "        n_effective_classes = self.class_count_.shape[0]\n",
    "        n_examples = X.shape[0]\n",
    "\n",
    "        D = np.zeros((n_effective_classes, n_examples))\n",
    "\n",
    "        for i in range(n_effective_classes):\n",
    "            X_i = X.multiply(self.ratios_[i])\n",
    "            D[i] = self.svm_[i].decision_function(X_i)\n",
    "        \n",
    "        return self.classes_[np.argmax(D, axis=0)]\n",
    "        \n",
    "    def _compute_ratios(self, X, Y):\n",
    "        \"\"\"Count feature occurrences and compute ratios.\"\"\"\n",
    "        if np.any((X.data if issparse(X) else X) < 0):\n",
    "            raise ValueError(\"Input X must be non-negative\")\n",
    "\n",
    "        self.ratios_ += safe_sparse_dot(Y.T, X)  # ratio + feature_occurrance_c\n",
    "        normalize(self.ratios_, norm='l1', axis=1, copy=False)\n",
    "        row_calc = lambda r: np.log(np.divide(r, (1 - r)))\n",
    "        self.ratios_ = np.apply_along_axis(row_calc, axis=1, arr=self.ratios_)\n",
    "        check_array(self.ratios_)\n",
    "        self.ratios_ = sparse.csr_matrix(self.ratios_)\n",
    "\n",
    "        #p_c /= np.linalg.norm(p_c, ord=1)\n",
    "        #ratios[c] = np.log(p_c / (1 - p_c))\n",
    "\n",
    "\n",
    "def f1_class(pred, truth, class_val):\n",
    "    n = len(truth)\n",
    "\n",
    "    truth_class = 0\n",
    "    pred_class = 0\n",
    "    tp = 0\n",
    "\n",
    "    for ii in range(0, n):\n",
    "        if truth[ii] == class_val:\n",
    "            truth_class += 1\n",
    "            if truth[ii] == pred[ii]:\n",
    "                tp += 1\n",
    "                pred_class += 1\n",
    "                continue;\n",
    "        if pred[ii] == class_val:\n",
    "            pred_class += 1\n",
    "\n",
    "    precision = tp / float(pred_class)\n",
    "    recall = tp / float(truth_class)\n",
    "\n",
    "    return (2.0 * precision * recall) / (precision + recall)\n",
    "\n",
    "\n",
    "def semeval_senti_f1(pred, truth, pos=2, neg=0): \n",
    "\n",
    "    f1_pos = f1_class(pred, truth, pos)\n",
    "    f1_neg = f1_class(pred, truth, neg)\n",
    "\n",
    "    return (f1_pos + f1_neg) / 2.0;\n",
    "\n",
    "\n",
    "def main(train_file, test_file, ngram=(1, 3)):\n",
    "    print('loading...')\n",
    "    train = pd.read_csv(train_file, delimiter='\\t', encoding='utf-8', header=0,\n",
    "                        names=['text', 'label'])\n",
    "\n",
    "    # to shuffle:\n",
    "    #train.iloc[np.random.permutation(len(df))]\n",
    "\n",
    "    test = pd.read_csv(test_file, delimiter='\\t', encoding='utf-8', header=0,\n",
    "                        names=['text', 'label'])\n",
    "\n",
    "    print('vectorizing...')\n",
    "    vect = CountVectorizer()\n",
    "    classifier = NBSVM()\n",
    "\n",
    "    # create pipeline\n",
    "    clf = Pipeline([('vect', vect), ('nbsvm', classifier)])\n",
    "    params = {\n",
    "        'vect__token_pattern': r\"\\S+\",\n",
    "        'vect__ngram_range': ngram, \n",
    "        'vect__binary': True\n",
    "    }\n",
    "    clf.set_params(**params)\n",
    "\n",
    "    #X_train = vect.fit_transform(train['text'])\n",
    "    #X_test = vect.transform(test['text'])\n",
    "\n",
    "    print('fitting...')\n",
    "    clf.fit(train['text'], train['label'])\n",
    "\n",
    "    print('classifying...')\n",
    "    pred = clf.predict(test['text'])\n",
    "   \n",
    "    print('testing...')\n",
    "    acc = accuracy_score(test['label'], pred)\n",
    "    f1 = semeval_senti_f1(pred, test['label'])\n",
    "    print('NBSVM: acc=%f, f1=%f' % (acc, f1))"
   ]
  },
  {
   "cell_type": "code",
   "execution_count": 0,
   "metadata": {
    "colab": {},
    "colab_type": "code",
    "id": "L8UgBNC33Qdv"
   },
   "outputs": [],
   "source": [
    "model5 = NBSVM(C=0.01)\n",
    "model5.fit( train_features, train[\"Rating\"] )\n",
    "\n",
    "pred_5 = model5.predict( test_features )"
   ]
  },
  {
   "cell_type": "code",
   "execution_count": 0,
   "metadata": {
    "colab": {
     "base_uri": "https://localhost:8080/",
     "height": 225
    },
    "colab_type": "code",
    "executionInfo": {
     "elapsed": 678,
     "status": "ok",
     "timestamp": 1551118467910,
     "user": {
      "displayName": "Sajjad Salaria",
      "photoUrl": "https://lh5.googleusercontent.com/-FVhdIz1k0r0/AAAAAAAAAAI/AAAAAAAAAPw/PHOxTvcgljo/s64/photo.jpg",
      "userId": "14627571170734727312"
     },
     "user_tz": -330
    },
    "id": "FkkKaXeL3VPi",
    "outputId": "c0971903-4963-4025-b0a2-a854817e1f9b"
   },
   "outputs": [
    {
     "name": "stdout",
     "output_type": "stream",
     "text": [
      "              precision    recall  f1-score   support\n",
      "\n",
      "           1       0.69      0.78      0.73      1112\n",
      "           2       0.42      0.13      0.19       388\n",
      "           3       0.40      0.10      0.16       456\n",
      "           4       0.38      0.19      0.25       907\n",
      "           5       0.74      0.94      0.83      3389\n",
      "\n",
      "   micro avg       0.69      0.69      0.69      6252\n",
      "   macro avg       0.53      0.43      0.43      6252\n",
      "weighted avg       0.63      0.69      0.64      6252\n",
      "\n"
     ]
    }
   ],
   "source": [
    "print(classification_report(test['Rating'], pred_2, target_names=['1','2','3','4','5']))"
   ]
  },
  {
   "cell_type": "code",
   "execution_count": 0,
   "metadata": {
    "colab": {},
    "colab_type": "code",
    "id": "RZ8K1C3_3X_N"
   },
   "outputs": [],
   "source": [
    "def plot_confusion_matrix(cm, classes,\n",
    "                          normalize=False,\n",
    "                          title='Confusion matrix',\n",
    "                          cmap=plt.cm.Blues):\n",
    "    \"\"\"\n",
    "    This function prints and plots the confusion matrix.\n",
    "    Normalization can be applied by setting `normalize=True`.\n",
    "    \"\"\"\n",
    "    plt.imshow(cm, interpolation='nearest', cmap=cmap)\n",
    "    plt.title(title)\n",
    "    plt.colorbar()\n",
    "    tick_marks = np.arange(len(classes))\n",
    "    plt.xticks(tick_marks, classes, rotation=45)\n",
    "    plt.yticks(tick_marks, classes)\n",
    "\n",
    "    if normalize:\n",
    "        cm = cm.astype('float') / cm.sum(axis=1)[:, np.newaxis]\n",
    "        print(\"Normalized confusion matrix\")\n",
    "    else:\n",
    "        print('Confusion matrix, without normalization')\n",
    "\n",
    "    print(cm)\n",
    "\n",
    "    thresh = cm.max() / 2.\n",
    "    for i, j in itertools.product(range(cm.shape[0]), range(cm.shape[1])):\n",
    "        plt.text(j, i, cm[i, j],\n",
    "                 horizontalalignment=\"center\",\n",
    "                 color=\"white\" if cm[i, j] > thresh else \"black\")\n",
    "\n",
    "    plt.tight_layout()\n",
    "    plt.ylabel('True label')\n",
    "    plt.xlabel('Predicted label')\n",
    "\n",
    "# Compute confusion matrix\n",
    "cnf_matrix = confusion_matrix(test['Rating'], pred_5)"
   ]
  },
  {
   "cell_type": "code",
   "execution_count": 0,
   "metadata": {
    "colab": {
     "base_uri": "https://localhost:8080/",
     "height": 417
    },
    "colab_type": "code",
    "executionInfo": {
     "elapsed": 1491,
     "status": "ok",
     "timestamp": 1551118501266,
     "user": {
      "displayName": "Sajjad Salaria",
      "photoUrl": "https://lh5.googleusercontent.com/-FVhdIz1k0r0/AAAAAAAAAAI/AAAAAAAAAPw/PHOxTvcgljo/s64/photo.jpg",
      "userId": "14627571170734727312"
     },
     "user_tz": -330
    },
    "id": "5U0RVQnb3ZrL",
    "outputId": "0aded8bd-552b-4161-ac9d-b7b71acdcf08"
   },
   "outputs": [
    {
     "name": "stdout",
     "output_type": "stream",
     "text": [
      "Confusion matrix, without normalization\n",
      "[[ 880   20   21   19  172]\n",
      " [ 198   42   20   27  101]\n",
      " [ 125   12   53   64  202]\n",
      " [  51    6   18  141  691]\n",
      " [  48    9   15  103 3214]]\n"
     ]
    },
    {
     "data": {
      "image/png": "[encoded data removed]",
      "text/plain": [
       "<Figure size 432x288 with 2 Axes>"
      ]
     },
     "metadata": {
      "tags": []
     },
     "output_type": "display_data"
    }
   ],
   "source": [
    "plot_confusion_matrix(cnf_matrix, classes=['1','2','3','4','5'],\n",
    "                      title='Confusion matrix, without normalization')"
   ]
  },
  {
   "cell_type": "code",
   "execution_count": 0,
   "metadata": {
    "colab": {
     "base_uri": "https://localhost:8080/",
     "height": 104
    },
    "colab_type": "code",
    "executionInfo": {
     "elapsed": 2450,
     "status": "ok",
     "timestamp": 1551118511564,
     "user": {
      "displayName": "Sajjad Salaria",
      "photoUrl": "https://lh5.googleusercontent.com/-FVhdIz1k0r0/AAAAAAAAAAI/AAAAAAAAAPw/PHOxTvcgljo/s64/photo.jpg",
      "userId": "14627571170734727312"
     },
     "user_tz": -330
    },
    "id": "9wZDHevc3f8O",
    "outputId": "bebb9034-3be5-43d7-d9d3-73a5db04a502"
   },
   "outputs": [
    {
     "name": "stdout",
     "output_type": "stream",
     "text": [
      "prediction 1 accuracy:  0.6681062060140754\n",
      "prediction 2 accuracy:  0.6904990403071017\n",
      "prediction 3 accuracy:  0.663787587971849\n",
      "prediction 4 accuracy:  0.6541906589891234\n",
      "prediction 5 accuracy:  0.6925783749200256\n"
     ]
    }
   ],
   "source": [
    "print('prediction 1 accuracy: ', accuracy_score(test['Rating'], pred_1))\n",
    "print('prediction 2 accuracy: ', accuracy_score(test['Rating'], pred_2))\n",
    "print('prediction 3 accuracy: ', accuracy_score(test['Rating'], pred_3))\n",
    "print('prediction 4 accuracy: ', accuracy_score(test['Rating'], pred_4))\n",
    "print('prediction 5 accuracy: ', accuracy_score(test['Rating'], pred_5))"
   ]
  },
  {
   "cell_type": "code",
   "execution_count": 0,
   "metadata": {
    "colab": {},
    "colab_type": "code",
    "id": "A8bUN8kU3iOA"
   },
   "outputs": [],
   "source": [
    "batch_size = 32\n",
    "nb_classes = 5"
   ]
  },
  {
   "cell_type": "code",
   "execution_count": 0,
   "metadata": {
    "colab": {},
    "colab_type": "code",
    "id": "0NYJDPMb3lnt"
   },
   "outputs": [],
   "source": [
    "vectorizer = TfidfVectorizer( min_df=2, max_df=0.95, max_features = 1000, ngram_range = ( 1, 3 ),\n",
    "                              sublinear_tf = True )\n",
    "\n",
    "vectorizer = vectorizer.fit(clean_train_reviews)\n",
    "train_features = vectorizer.transform(clean_train_reviews)\n",
    "\n",
    "test_features = vectorizer.transform(clean_test_reviews)"
   ]
  },
  {
   "cell_type": "code",
   "execution_count": 0,
   "metadata": {
    "colab": {
     "base_uri": "https://localhost:8080/",
     "height": 365
    },
    "colab_type": "code",
    "executionInfo": {
     "elapsed": 31896,
     "status": "ok",
     "timestamp": 1551119163121,
     "user": {
      "displayName": "Sajjad Salaria",
      "photoUrl": "https://lh5.googleusercontent.com/-FVhdIz1k0r0/AAAAAAAAAAI/AAAAAAAAAPw/PHOxTvcgljo/s64/photo.jpg",
      "userId": "14627571170734727312"
     },
     "user_tz": -330
    },
    "id": "bl9PXzg93nLa",
    "outputId": "315f7f5d-c39a-4e6c-b386-bf22e9591746"
   },
   "outputs": [
    {
     "name": "stdout",
     "output_type": "stream",
     "text": [
      "X_train shape: (14585, 1000)\n",
      "X_test shape: (6252, 1000)\n",
      "Training...\n",
      "WARNING:tensorflow:From /usr/local/lib/python3.6/dist-packages/tensorflow/python/ops/math_ops.py:3066: to_int32 (from tensorflow.python.ops.math_ops) is deprecated and will be removed in a future version.\n",
      "Instructions for updating:\n",
      "Use tf.cast instead.\n"
     ]
    },
    {
     "name": "stderr",
     "output_type": "stream",
     "text": [
      "/usr/local/lib/python3.6/dist-packages/ipykernel_launcher.py:42: UserWarning: The `nb_epoch` argument in `fit` has been renamed `epochs`.\n"
     ]
    },
    {
     "name": "stdout",
     "output_type": "stream",
     "text": [
      "Train on 13126 samples, validate on 1459 samples\n",
      "Epoch 1/5\n",
      "13126/13126 [==============================] - 7s 516us/step - loss: 0.9833 - acc: 0.6406 - val_loss: 0.8947 - val_acc: 0.6635\n",
      "Epoch 2/5\n",
      "13126/13126 [==============================] - 6s 437us/step - loss: 0.8645 - acc: 0.6861 - val_loss: 0.8988 - val_acc: 0.6690\n",
      "Epoch 3/5\n",
      "13126/13126 [==============================] - 6s 438us/step - loss: 0.8229 - acc: 0.7000 - val_loss: 0.8940 - val_acc: 0.6731\n",
      "Epoch 4/5\n",
      "13126/13126 [==============================] - 6s 438us/step - loss: 0.7998 - acc: 0.7183 - val_loss: 0.9074 - val_acc: 0.6669\n",
      "Epoch 5/5\n",
      "13126/13126 [==============================] - 6s 427us/step - loss: 0.7743 - acc: 0.7239 - val_loss: 0.9138 - val_acc: 0.6669\n",
      "Generating test predictions...\n"
     ]
    }
   ],
   "source": [
    "X_train = train_features.toarray()\n",
    "X_test = test_features.toarray()\n",
    "\n",
    "print('X_train shape:', X_train.shape)\n",
    "print('X_test shape:', X_test.shape)\n",
    "y_train = np.array(train['Rating']-1)\n",
    "y_test = np.array(test['Rating']-1)\n",
    "\n",
    "Y_train = np_utils.to_categorical(y_train, nb_classes)\n",
    "Y_test = np_utils.to_categorical(y_test, nb_classes)\n",
    "\n",
    "\n",
    "# pre-processing: divide by max and substract mean\n",
    "scale = np.max(X_train)\n",
    "X_train /= scale\n",
    "X_test /= scale\n",
    "\n",
    "mean = np.mean(X_train)\n",
    "X_train -= mean\n",
    "X_test -= mean\n",
    "\n",
    "input_dim = X_train.shape[1]\n",
    "\n",
    "# Here's a Deep Dumb MLP (DDMLP)\n",
    "model = Sequential()\n",
    "model.add(Dense(256, input_dim=input_dim))\n",
    "model.add(Activation('relu'))\n",
    "model.add(Dropout(0.4))\n",
    "model.add(Dense(128))\n",
    "model.add(Activation('relu'))\n",
    "model.add(Dropout(0.2))\n",
    "model.add(Dense(nb_classes))\n",
    "model.add(Activation('softmax'))\n",
    "\n",
    "# we'll use categorical xent for the loss, and RMSprop as the optimizer\n",
    "# For a multi-class classification problem\n",
    "model.compile(optimizer='rmsprop',\n",
    "              loss='categorical_crossentropy',\n",
    "              metrics=['accuracy'])\n",
    "\n",
    "print(\"Training...\")\n",
    "model.fit(X_train, Y_train, nb_epoch=5, batch_size=16, validation_split=0.1)\n",
    "\n",
    "\n",
    "\n",
    "\n",
    "\n",
    "\n",
    "print(\"Generating test predictions...\")\n",
    "preds = model.predict_classes(X_test, verbose=0)"
   ]
  },
  {
   "cell_type": "code",
   "execution_count": 0,
   "metadata": {
    "colab": {
     "base_uri": "https://localhost:8080/",
     "height": 35
    },
    "colab_type": "code",
    "executionInfo": {
     "elapsed": 1198,
     "status": "ok",
     "timestamp": 1551119291674,
     "user": {
      "displayName": "Sajjad Salaria",
      "photoUrl": "https://lh5.googleusercontent.com/-FVhdIz1k0r0/AAAAAAAAAAI/AAAAAAAAAPw/PHOxTvcgljo/s64/photo.jpg",
      "userId": "14627571170734727312"
     },
     "user_tz": -330
    },
    "id": "kaHrP54E3pWE",
    "outputId": "e6d0309b-fabf-4173-aaef-7cef7fe0dcdf"
   },
   "outputs": [
    {
     "name": "stdout",
     "output_type": "stream",
     "text": [
      "prediction 7 accuracy:  0.6805822136916186\n"
     ]
    }
   ],
   "source": [
    "print('prediction 7 accuracy: ', accuracy_score(test['Rating'], preds+1))"
   ]
  },
  {
   "cell_type": "code",
   "execution_count": 0,
   "metadata": {
    "colab": {},
    "colab_type": "code",
    "id": "Q-qLd9_f6jf0"
   },
   "outputs": [],
   "source": []
  },
  {
   "cell_type": "markdown",
   "metadata": {
    "colab_type": "text",
    "id": "Bg0bD77T6say"
   },
   "source": [
    "### LSTM"
   ]
  },
  {
   "cell_type": "code",
   "execution_count": 0,
   "metadata": {
    "colab": {},
    "colab_type": "code",
    "id": "fV9stbSb6t03"
   },
   "outputs": [],
   "source": [
    "max_features = 20000\n",
    "EMBEDDING_DIM = 100\n",
    "VALIDATION_SPLIT = 0.2\n",
    "maxlen = 80\n",
    "batch_size = 32\n",
    "nb_classes = 5"
   ]
  },
  {
   "cell_type": "code",
   "execution_count": 0,
   "metadata": {
    "colab": {
     "base_uri": "https://localhost:8080/",
     "height": 72
    },
    "colab_type": "code",
    "executionInfo": {
     "elapsed": 3000,
     "status": "ok",
     "timestamp": 1551119359507,
     "user": {
      "displayName": "Sajjad Salaria",
      "photoUrl": "https://lh5.googleusercontent.com/-FVhdIz1k0r0/AAAAAAAAAAI/AAAAAAAAAPw/PHOxTvcgljo/s64/photo.jpg",
      "userId": "14627571170734727312"
     },
     "user_tz": -330
    },
    "id": "fiQUL1W96vc8",
    "outputId": "ca5fe961-5b3a-4c3c-92a3-9272a86d6b8d"
   },
   "outputs": [
    {
     "name": "stderr",
     "output_type": "stream",
     "text": [
      "/usr/local/lib/python3.6/dist-packages/keras_preprocessing/text.py:178: UserWarning: The `nb_words` argument in `Tokenizer` has been renamed `num_words`.\n",
      "  warnings.warn('The `nb_words` argument in `Tokenizer` '\n"
     ]
    }
   ],
   "source": [
    "# vectorize the text samples into a 2D integer tensor\n",
    "tokenizer = Tokenizer(nb_words=max_features)\n",
    "tokenizer.fit_on_texts(train['Reviews'])\n",
    "sequences_train = tokenizer.texts_to_sequences(train['Reviews'])\n",
    "sequences_test = tokenizer.texts_to_sequences(test['Reviews'])"
   ]
  },
  {
   "cell_type": "code",
   "execution_count": 0,
   "metadata": {
    "colab": {
     "base_uri": "https://localhost:8080/",
     "height": 69
    },
    "colab_type": "code",
    "executionInfo": {
     "elapsed": 1349,
     "status": "ok",
     "timestamp": 1551119363132,
     "user": {
      "displayName": "Sajjad Salaria",
      "photoUrl": "https://lh5.googleusercontent.com/-FVhdIz1k0r0/AAAAAAAAAAI/AAAAAAAAAPw/PHOxTvcgljo/s64/photo.jpg",
      "userId": "14627571170734727312"
     },
     "user_tz": -330
    },
    "id": "te3EqqCL6xHM",
    "outputId": "86a6cbb1-50cf-4339-a236-2c1d327bbfc9"
   },
   "outputs": [
    {
     "name": "stdout",
     "output_type": "stream",
     "text": [
      "Pad sequences (samples x time)\n",
      "X_train shape: (14585, 80)\n",
      "X_test shape: (6252, 80)\n"
     ]
    }
   ],
   "source": [
    "print('Pad sequences (samples x time)')\n",
    "X_train = sequence.pad_sequences(sequences_train, maxlen=maxlen)\n",
    "X_test = sequence.pad_sequences(sequences_test, maxlen=maxlen)\n",
    "\n",
    "Y_train = np_utils.to_categorical(y_train, nb_classes)\n",
    "Y_test = np_utils.to_categorical(y_test, nb_classes)\n",
    "\n",
    "\n",
    "print('X_train shape:', X_train.shape)\n",
    "print('X_test shape:', X_test.shape)"
   ]
  },
  {
   "cell_type": "code",
   "execution_count": 0,
   "metadata": {
    "colab": {
     "base_uri": "https://localhost:8080/",
     "height": 296
    },
    "colab_type": "code",
    "executionInfo": {
     "elapsed": 140390,
     "status": "ok",
     "timestamp": 1551119509986,
     "user": {
      "displayName": "Sajjad Salaria",
      "photoUrl": "https://lh5.googleusercontent.com/-FVhdIz1k0r0/AAAAAAAAAAI/AAAAAAAAAPw/PHOxTvcgljo/s64/photo.jpg",
      "userId": "14627571170734727312"
     },
     "user_tz": -330
    },
    "id": "GHM6J8nd6yZn",
    "outputId": "cfc45b7e-8aed-4fc5-90a1-3fafae2d60c1"
   },
   "outputs": [
    {
     "name": "stdout",
     "output_type": "stream",
     "text": [
      "Build model...\n"
     ]
    },
    {
     "name": "stderr",
     "output_type": "stream",
     "text": [
      "/usr/local/lib/python3.6/dist-packages/ipykernel_launcher.py:3: UserWarning: The `dropout` argument is no longer support in `Embedding`. You can apply a `keras.layers.SpatialDropout1D` layer right after the `Embedding` layer to get the same behavior.\n",
      "  This is separate from the ipykernel package so we can avoid doing imports until\n",
      "/usr/local/lib/python3.6/dist-packages/ipykernel_launcher.py:4: UserWarning: Update your `LSTM` call to the Keras 2 API: `LSTM(128, dropout=0.2, recurrent_dropout=0.2)`\n",
      "  after removing the cwd from sys.path.\n"
     ]
    },
    {
     "name": "stdout",
     "output_type": "stream",
     "text": [
      "Train...\n"
     ]
    },
    {
     "name": "stderr",
     "output_type": "stream",
     "text": [
      "/usr/local/lib/python3.6/dist-packages/ipykernel_launcher.py:14: UserWarning: The `nb_epoch` argument in `fit` has been renamed `epochs`.\n",
      "  \n"
     ]
    },
    {
     "name": "stdout",
     "output_type": "stream",
     "text": [
      "Train on 14585 samples, validate on 6252 samples\n",
      "Epoch 1/1\n",
      "14585/14585 [==============================] - 121s 8ms/step - loss: 0.3371 - acc: 0.8652 - val_loss: 0.2906 - val_acc: 0.8861\n",
      "6252/6252 [==============================] - 8s 1ms/step\n",
      "Test score: 0.2906438502568277\n",
      "Test accuracy: 0.886148420992526\n",
      "Generating test predictions...\n"
     ]
    }
   ],
   "source": [
    "print('Build model...')\n",
    "model = Sequential()\n",
    "model.add(Embedding(max_features, 128, dropout=0.2))\n",
    "model.add(LSTM(128, dropout_W=0.2, dropout_U=0.2)) \n",
    "model.add(Dense(nb_classes))\n",
    "model.add(Activation('softmax'))\n",
    "\n",
    "model.compile(loss='binary_crossentropy',\n",
    "              optimizer='adam',\n",
    "              metrics=['accuracy'])\n",
    "\n",
    "print('Train...')\n",
    "model.fit(X_train, Y_train, batch_size=batch_size, nb_epoch=1,\n",
    "          validation_data=(X_test, Y_test))\n",
    "score, acc = model.evaluate(X_test, Y_test,\n",
    "                            batch_size=batch_size)\n",
    "print('Test score:', score)\n",
    "print('Test accuracy:', acc)\n",
    "\n",
    "\n",
    "print(\"Generating test predictions...\")\n",
    "preds = model.predict_classes(X_test, verbose=0)"
   ]
  },
  {
   "cell_type": "code",
   "execution_count": 0,
   "metadata": {
    "colab": {
     "base_uri": "https://localhost:8080/",
     "height": 35
    },
    "colab_type": "code",
    "executionInfo": {
     "elapsed": 1543,
     "status": "ok",
     "timestamp": 1551119515069,
     "user": {
      "displayName": "Sajjad Salaria",
      "photoUrl": "https://lh5.googleusercontent.com/-FVhdIz1k0r0/AAAAAAAAAAI/AAAAAAAAAPw/PHOxTvcgljo/s64/photo.jpg",
      "userId": "14627571170734727312"
     },
     "user_tz": -330
    },
    "id": "XUCVkPX560S0",
    "outputId": "cfce4cde-855c-4c5e-bccb-6ddd3d3073b2"
   },
   "outputs": [
    {
     "name": "stdout",
     "output_type": "stream",
     "text": [
      "prediction 7 accuracy:  0.6820217530390275\n"
     ]
    }
   ],
   "source": [
    "print('prediction 7 accuracy: ', accuracy_score(test['Rating'], preds+1))"
   ]
  },
  {
   "cell_type": "code",
   "execution_count": 0,
   "metadata": {
    "colab": {},
    "colab_type": "code",
    "id": "O3nBsDIz7XbM"
   },
   "outputs": [],
   "source": [
    "### CNN"
   ]
  },
  {
   "cell_type": "code",
   "execution_count": 0,
   "metadata": {
    "colab": {},
    "colab_type": "code",
    "id": "KH3Zt_1i7bFu"
   },
   "outputs": [],
   "source": [
    "nb_filter = 250\n",
    "filter_length = 3\n",
    "hidden_dims = 250\n",
    "nb_epoch = 2"
   ]
  },
  {
   "cell_type": "code",
   "execution_count": 0,
   "metadata": {
    "colab": {
     "base_uri": "https://localhost:8080/",
     "height": 124
    },
    "colab_type": "code",
    "executionInfo": {
     "elapsed": 1076,
     "status": "ok",
     "timestamp": 1551119543020,
     "user": {
      "displayName": "Sajjad Salaria",
      "photoUrl": "https://lh5.googleusercontent.com/-FVhdIz1k0r0/AAAAAAAAAAI/AAAAAAAAAPw/PHOxTvcgljo/s64/photo.jpg",
      "userId": "14627571170734727312"
     },
     "user_tz": -330
    },
    "id": "ZbhDG2yx7c0P",
    "outputId": "320ee8c7-0f31-4bee-f277-6f890c4b0f0b"
   },
   "outputs": [
    {
     "name": "stdout",
     "output_type": "stream",
     "text": [
      "Build model...\n"
     ]
    },
    {
     "name": "stderr",
     "output_type": "stream",
     "text": [
      "/usr/local/lib/python3.6/dist-packages/ipykernel_launcher.py:3: UserWarning: The `dropout` argument is no longer support in `Embedding`. You can apply a `keras.layers.SpatialDropout1D` layer right after the `Embedding` layer to get the same behavior.\n",
      "  This is separate from the ipykernel package so we can avoid doing imports until\n",
      "/usr/local/lib/python3.6/dist-packages/ipykernel_launcher.py:10: UserWarning: Update your `Conv1D` call to the Keras 2 API: `Conv1D(activation=\"relu\", filters=250, kernel_size=3, strides=1, padding=\"valid\")`\n",
      "  # Remove the CWD from sys.path while we load stuff.\n"
     ]
    }
   ],
   "source": [
    "print('Build model...')\n",
    "model = Sequential()\n",
    "model.add(Embedding(max_features, 128, dropout=0.2))\n",
    "# we add a Convolution1D, which will learn nb_filter\n",
    "# word group filters of size filter_length:\n",
    "model.add(Convolution1D(nb_filter=nb_filter,\n",
    "                        filter_length=filter_length,\n",
    "                        border_mode='valid',\n",
    "                        activation='relu',\n",
    "                        subsample_length=1))\n",
    "\n",
    "def max_1d(X):\n",
    "    return K.max(X, axis=1)\n",
    "\n",
    "model.add(Lambda(max_1d, output_shape=(nb_filter,)))\n",
    "model.add(Dense(hidden_dims)) \n",
    "model.add(Dropout(0.2)) \n",
    "model.add(Activation('relu'))\n",
    "model.add(Dense(nb_classes))\n",
    "model.add(Activation('sigmoid'))\n",
    "\n",
    "model.compile(loss='binary_crossentropy',\n",
    "              optimizer='adam',\n",
    "              metrics=['accuracy'])"
   ]
  },
  {
   "cell_type": "code",
   "execution_count": 0,
   "metadata": {
    "colab": {
     "base_uri": "https://localhost:8080/",
     "height": 262
    },
    "colab_type": "code",
    "executionInfo": {
     "elapsed": 55322,
     "status": "ok",
     "timestamp": 1551119608252,
     "user": {
      "displayName": "Sajjad Salaria",
      "photoUrl": "https://lh5.googleusercontent.com/-FVhdIz1k0r0/AAAAAAAAAAI/AAAAAAAAAPw/PHOxTvcgljo/s64/photo.jpg",
      "userId": "14627571170734727312"
     },
     "user_tz": -330
    },
    "id": "mNWDU_F07eYf",
    "outputId": "46732b59-d011-414e-a0ba-62fc7bd5e5e2"
   },
   "outputs": [
    {
     "name": "stdout",
     "output_type": "stream",
     "text": [
      "Train...\n"
     ]
    },
    {
     "name": "stderr",
     "output_type": "stream",
     "text": [
      "/usr/local/lib/python3.6/dist-packages/ipykernel_launcher.py:3: UserWarning: The `nb_epoch` argument in `fit` has been renamed `epochs`.\n",
      "  This is separate from the ipykernel package so we can avoid doing imports until\n"
     ]
    },
    {
     "name": "stdout",
     "output_type": "stream",
     "text": [
      "WARNING:tensorflow:From /usr/local/lib/python3.6/dist-packages/tensorflow/python/ops/math_grad.py:102: div (from tensorflow.python.ops.math_ops) is deprecated and will be removed in a future version.\n",
      "Instructions for updating:\n",
      "Deprecated in favor of operator or tf.math.divide.\n",
      "Train on 14585 samples, validate on 6252 samples\n",
      "Epoch 1/1\n",
      "14585/14585 [==============================] - 48s 3ms/step - loss: 0.3345 - acc: 0.8679 - val_loss: 0.2805 - val_acc: 0.8865\n",
      "6252/6252 [==============================] - 3s 472us/step\n",
      "Test score: 0.28053035273890575\n",
      "Test accuracy: 0.8865322978620108\n",
      "Generating test predictions...\n"
     ]
    }
   ],
   "source": [
    "print('Train...')\n",
    "model.fit(X_train, Y_train, batch_size=batch_size, nb_epoch=1,\n",
    "          validation_data=(X_test, Y_test))\n",
    "score, acc = model.evaluate(X_test, Y_test,\n",
    "                            batch_size=batch_size)\n",
    "print('Test score:', score)\n",
    "print('Test accuracy:', acc)\n",
    "\n",
    "\n",
    "print(\"Generating test predictions...\")\n",
    "preds = model.predict_classes(X_test, verbose=0)"
   ]
  },
  {
   "cell_type": "code",
   "execution_count": 0,
   "metadata": {
    "colab": {
     "base_uri": "https://localhost:8080/",
     "height": 35
    },
    "colab_type": "code",
    "executionInfo": {
     "elapsed": 1042,
     "status": "ok",
     "timestamp": 1551119762331,
     "user": {
      "displayName": "Sajjad Salaria",
      "photoUrl": "https://lh5.googleusercontent.com/-FVhdIz1k0r0/AAAAAAAAAAI/AAAAAAAAAPw/PHOxTvcgljo/s64/photo.jpg",
      "userId": "14627571170734727312"
     },
     "user_tz": -330
    },
    "id": "9RKFTOEG7hDm",
    "outputId": "9b220d3f-3b8e-4d2c-90e2-0500a8f8d4c9"
   },
   "outputs": [
    {
     "name": "stdout",
     "output_type": "stream",
     "text": [
      "prediction 8 accuracy:  0.6882597568777991\n"
     ]
    }
   ],
   "source": [
    "print('prediction 8 accuracy: ', accuracy_score(test['Rating'], preds+1))"
   ]
  },
  {
   "cell_type": "code",
   "execution_count": 0,
   "metadata": {
    "colab": {
     "base_uri": "https://localhost:8080/",
     "height": 35
    },
    "colab_type": "code",
    "executionInfo": {
     "elapsed": 1030,
     "status": "ok",
     "timestamp": 1551119767287,
     "user": {
      "displayName": "Sajjad Salaria",
      "photoUrl": "https://lh5.googleusercontent.com/-FVhdIz1k0r0/AAAAAAAAAAI/AAAAAAAAAPw/PHOxTvcgljo/s64/photo.jpg",
      "userId": "14627571170734727312"
     },
     "user_tz": -330
    },
    "id": "2FMbsYm67wZN",
    "outputId": "b5c51f82-6b41-47ef-9c89-e97d849bafd1"
   },
   "outputs": [
    {
     "data": {
      "text/plain": [
       "array([0, 4, 0, ..., 0, 4, 4])"
      ]
     },
     "execution_count": 58,
     "metadata": {
      "tags": []
     },
     "output_type": "execute_result"
    }
   ],
   "source": [
    "preds"
   ]
  },
  {
   "cell_type": "code",
   "execution_count": 0,
   "metadata": {
    "colab": {},
    "colab_type": "code",
    "id": "MxUlLFOP8ZgX"
   },
   "outputs": [],
   "source": []
  }
 ],
 "metadata": {
  "colab": {
   "name": "text-mining-with-sklearn-keras-mlp-lstm-cnn.ipynb",
   "provenance": [],
   "version": "0.3.2"
  },
  "kernelspec": {
   "display_name": "Python 3",
   "language": "python",
   "name": "python3"
  },
  "language_info": {
   "codemirror_mode": {
    "name": "ipython",
    "version": 3
   },
   "file_extension": ".py",
   "mimetype": "text/x-python",
   "name": "python",
   "nbconvert_exporter": "python",
   "pygments_lexer": "ipython3",
   "version": "3.6.7"
  }
 },
 "nbformat": 4,
 "nbformat_minor": 1
}
