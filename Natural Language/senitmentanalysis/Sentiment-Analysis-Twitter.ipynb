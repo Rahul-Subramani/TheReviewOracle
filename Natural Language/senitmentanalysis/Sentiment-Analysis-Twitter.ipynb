{
 "cells": [
  {
   "cell_type": "code",
   "execution_count": 1,
   "metadata": {},
   "outputs": [],
   "source": [
    "import tweepy\n",
    "import re\n",
    "import pickle\n",
    "\n",
    "from tweepy import OAuthHandler\n"
   ]
  },
  {
   "cell_type": "code",
   "execution_count": 2,
   "metadata": {},
   "outputs": [],
   "source": [
    "\n",
    "#Please change with your own consumer key, consumer secret, access token and access secret\n",
    "# Initializing the keys\n",
    "consumer_key = '2FwDCiX4sWxXeiZiOUvh9852G'\n",
    "consumer_secret = 'hp1nnF8e33RcJt3C7pxBFhPJBifj0mBXsoykXmb0txiTVv9rYx'\n",
    "access_token = '1066673840896397314-eIIrdKujAHB8LL5ULCmL5xc1WAir2C'\n",
    "access_secret ='7L8Jl8bKk0n4ZoLppUvF4qBsKSMesEUSMSWDmR8fm110R'\n"
   ]
  },
  {
   "cell_type": "code",
   "execution_count": 28,
   "metadata": {},
   "outputs": [],
   "source": [
    "\n",
    "# Initializing the tokens\n",
    "auth = OAuthHandler(consumer_key, consumer_secret)\n",
    "auth.set_access_token(access_token, access_secret)\n",
    "args = ['nokia'];\n",
    "api = tweepy.API(auth, timeout=10)\n"
   ]
  },
  {
   "cell_type": "code",
   "execution_count": 29,
   "metadata": {},
   "outputs": [],
   "source": [
    "# Fetching the tweets\n",
    "list_tweets = []\n",
    "\n",
    "query = args[0]\n",
    "if len(args) == 1:\n",
    "    for status in tweepy.Cursor(api.search,q=query+\" -filter:retweets\",lang='en',result_type='recent',geocode=\"22.1568,89.4332,500km\").items(100):\n",
    "        list_tweets.append(status.text)"
   ]
  },
  {
   "cell_type": "code",
   "execution_count": 30,
   "metadata": {},
   "outputs": [],
   "source": [
    "\n",
    "# Loading the vectorizer and classfier\n",
    "with open('classifier.pickle','rb') as f:\n",
    "    classifier = pickle.load(f)\n",
    "\n",
    "with open('tfidfmodel.pickle','rb') as f:\n",
    "    tfidf = pickle.load(f)\n",
    "\n",
    "total_pos = 0\n",
    "total_neg = 0\n"
   ]
  },
  {
   "cell_type": "code",
   "execution_count": 31,
   "metadata": {},
   "outputs": [],
   "source": [
    "# Preprocessing the tweets and predicting sentiment\n",
    "for tweet in list_tweets:\n",
    "    tweet = re.sub(r\"^https://t.co/[a-zA-Z0-9]*\\s\", \" \", tweet)\n",
    "    tweet = re.sub(r\"\\s+https://t.co/[a-zA-Z0-9]*\\s\", \" \", tweet)\n",
    "    tweet = re.sub(r\"\\s+https://t.co/[a-zA-Z0-9]*$\", \" \", tweet)\n",
    "    tweet = tweet.lower()\n",
    "    tweet = re.sub(r\"that's\",\"that is\",tweet)\n",
    "    tweet = re.sub(r\"there's\",\"there is\",tweet)\n",
    "    tweet = re.sub(r\"what's\",\"what is\",tweet)\n",
    "    tweet = re.sub(r\"where's\",\"where is\",tweet)\n",
    "    tweet = re.sub(r\"it's\",\"it is\",tweet)\n",
    "    tweet = re.sub(r\"who's\",\"who is\",tweet)\n",
    "    tweet = re.sub(r\"i'm\",\"i am\",tweet)\n",
    "    tweet = re.sub(r\"she's\",\"she is\",tweet)\n",
    "    tweet = re.sub(r\"he's\",\"he is\",tweet)\n",
    "    tweet = re.sub(r\"they're\",\"they are\",tweet)\n",
    "    tweet = re.sub(r\"who're\",\"who are\",tweet)\n",
    "    tweet = re.sub(r\"ain't\",\"am not\",tweet)\n",
    "    tweet = re.sub(r\"wouldn't\",\"would not\",tweet)\n",
    "    tweet = re.sub(r\"shouldn't\",\"should not\",tweet)\n",
    "    tweet = re.sub(r\"can't\",\"can not\",tweet)\n",
    "    tweet = re.sub(r\"couldn't\",\"could not\",tweet)\n",
    "    tweet = re.sub(r\"won't\",\"will not\",tweet)\n",
    "    tweet = re.sub(r\"\\W\",\" \",tweet)\n",
    "    tweet = re.sub(r\"\\d\",\" \",tweet)\n",
    "    tweet = re.sub(r\"\\s+[a-z]\\s+\",\" \",tweet)\n",
    "    tweet = re.sub(r\"\\s+[a-z]$\",\" \",tweet)\n",
    "    tweet = re.sub(r\"^[a-z]\\s+\",\" \",tweet)\n",
    "    tweet = re.sub(r\"\\s+\",\" \",tweet)\n",
    "    sent = classifier.predict(tfidf.transform([tweet]).toarray())\n",
    "    if sent[0] == 1:\n",
    "        total_pos += 1\n",
    "    else:\n",
    "        total_neg += 1\n"
   ]
  },
  {
   "cell_type": "code",
   "execution_count": 32,
   "metadata": {},
   "outputs": [
    {
     "name": "stdout",
     "output_type": "stream",
     "text": [
      "['OPPO R15, Nokia 9 PureView, Moto Razor 2019 Latest Updates, Leaks, Specs, Launch Date in\\xa0India|Hindi… https://t.co/UA6krRd2rL', '@mehta_ajey @BTVI Congratulations Sir really Proud of you the way you bring back Nokia backs was absolutely amazing… https://t.co/5ytkjOcjli', 'Live@Nokia 7 plus with Shillong Chamber Choir in Guwahati https://t.co/tVo1B5zEe6', '@NokiamobileIN when Nokia 7 plus will get February Android security patch update...today is 17th Feb...within next… https://t.co/mMotyfLh6w', '@geet0212 https://t.co/Fet2Ay3Ml4\\nJust give it a look. Looks like the ones in fashion today. 😊. I use one.', '@geet0212 Nokia. The new ones are like the tanks like the olden days. I use one.', '@mehta_ajey @BTVI We are waiting for that day when nokia again comes on top levels', \"@geekyranjit #AskGeekyRanjit Sir, i want to gift my dad a phone on his birthday. I'm planning to buy Nokia 5.1 plus… https://t.co/e75iIpeu1w\", '#AskGeekyRanjit @geekyranjit What are your thoughts on Nokia 9 and 6.2??????', '@DBaptistaSilva @Monild_1998 @sarvikas @ZacksJerryRig @YouTube I think people would prefer faster charge time witho… https://t.co/Qgsj6xtzsj', '@DBaptistaSilva @Monild_1998 @sarvikas @ZacksJerryRig @YouTube Yes the did copied but thankfully no other Nokia fro… https://t.co/ZMLxsfsutg', '@ASUSIndia @Flipkart You guys only give importance to selling your phone not after selling service.Everyone is aski… https://t.co/gtoX4AfluF', '@sarvikas @JrJesus15 At least Nokia is providing updates to cheap phones as well. I switched to Nokia because of the guaranteed updates.', \"@sarvikas Since Pureview is back from the dead, isn't that would be great to resurrect XpressMusic as well. A lot o… https://t.co/kr7qhXUr5Z\", '@NokiaMobile if anyone at the Nokia is listening, we would love to have an Xpress Music Nokia, like we had during t… https://t.co/vvLg32t68y', 'Nokia 8.1 (Nokia X7) - Full phone specifications » https://t.co/n3iJHdnDRh https://t.co/mnofkJpQwE', '@NokiamobileIN my nokia 3310 keypad not working. Service center said to contact seller to replace mobile bcoz it ha… https://t.co/rupuQdeOe1', \"The display issue hasn't been fixed in pie. This wasn't perceived in Oreo. This wasn't fixed even after the recent… https://t.co/ZICQ4CYHLI\", '@mehta_ajey @BTVI Congratulations. Now make available wireless earbuds on Nokia India site.', '@mehta_ajey @BTVI Heartiest congratulations! You deserve that, Sir! Keep taking #Nokia in the right direction... 😊', \"@sarvikas @ZacksJerryRig I love Nokia I'm big fan of Nokia\", '@NokiaMobile Dear sir,\\nYour  service centre denyed to give service of my Nokia 6.1 plus,\\n add- 1st Floor -201301,C… https://t.co/MUUVBOiSHr', \"@NokiaMobile @nokia @JagoGrahakJago_ They're threating me- you're coming 4 times for one problem only I'm going to… https://t.co/T8WXAiNL72\", '@NokiaMobile @nokia @JagoGrahakJago_ \\nDear sir,\\nYourservice centre denyed to give service add- C-10 (1st Floor -201… https://t.co/m4SgEzDFLA', 'Universal Waterproof Case, JOTO CellPhone Dry Bag Pouch for Apple iPhone 6S, 6, 6S Plus, SE, 5S, Samsung Galaxy S7,… https://t.co/oeqbFZVQOE', 'Normmal NOKIA/sumsung phone urgent need, buget 500tk highest.', 'Price down Nokia smartphone nokia 6, BD price 7,000tk down\\nSee more info https://t.co/ImkcisMGgM https://t.co/fErVLQLgoP', 'MWC 2019: Top 5 Brand, Jo Lekar Aa Rahe Hain Ye New Smartphone Technologies..\\n1. Vivo Apex Concept – A Holeless Pho… https://t.co/saU60MWeRC', \"@Etis_digitaldj @NokiaMobile I've abandoned that project. It does not work well (because Nokia 5 doesn't have the i… https://t.co/hpT2z8xboh\", 'Nokia True Wireless Earbuds Launched For Rs 9,999/-\\n@NokiaIndia https://t.co/2GAUC6r7Tk', \"@Nokiapoweruser @NokiamobileIN @NokiaMobile @NokiaFanss @Google @Android  I would like to say just one thing ' Andr… https://t.co/VD6URq4TJs\", 'Nokia 7 Plus clicked!!!!\\n#nature #naturephotography \\n#sunsets #nokia7plus #flowerphotography \\n@sarvikas… https://t.co/VVhn4eL0Hl', \"@BambooXRP lol, pretty much, it's like releasing a Nokia 3310 in 2019.\", 'Nokia 5.1 Plus Android Pie Update Rolling Out With February 2019 Security Patch\\n.\\n.\\n.\\n.\\n.\\n\\n#nokia9 #nokia… https://t.co/WHzDLHEnrR', 'Nokia one Plus Single sim model will have 2500 mAh Battery with a 5W charger @ishanagarwal24', '@Iamayushmann @sarvikas @nokia @NokiaMobile @HMDGlobal Same here bro', 'Universal Waterproof Case, JOTO CellPhone Dry Bag Pouch for Apple iPhone 6S, 6, 6S Plus, SE, 5S, Samsung Galaxy S7,… https://t.co/JyJiTpTMbp', 'Fresh stock of Mobile Priority Khardaha \\nIphone 6 32GB Gold with 7mnth warranty\\nNokia 8.1Plus with 11months warrant… https://t.co/HMZmuwSqE1', 'Nokia 6 and Indian Nokia 8 to get Android Pie next week https://t.co/J2DdgEBZQw', '@NokiamobileIN Phone model:- Nokia 6.1 Plus.\\nEmail Id:- its.ankitjha1@gmail.com\\nPhone no:- 6200258713\\nCity:- Patna.\\n@NokiamobileIN', '@mysmartprice @NokiamobBlog The Nokia 1 plus specifications.... https://t.co/yMH6dlwP3X', '@Nokiapoweruser And Nokia 5 needs a new Pie build.\\nThe battery life is horrible now', 'Nokia one plus will have two variant one  of 1Gb RAM and 8GB storage \\nand 1GB RAM and 16GB RAM', 'Nokia True Wireless Earbuds Now Reportedly Available in India at Rs. 9,999 https://t.co/FhkG4X5viM', '@droid_life Yes Nokia 6.1+', 'Nokia 9 TA-1087 will be in blue in colour @ishanagarwal24 what do you think on this? Plz reply', '@sarvikas @Pravinraj210 @JrJesus15 What about Nokia 3.1 plus pie update?', 'Nokia True Wireless Earbuds Now Reportedly Available in India at Rs. 9,999 https://t.co/UJ753SYycW', 'Nokia 5.1 Plus Launch with 4GB and 6GB RAM\\xa0variants https://t.co/WSkQw9JqFw https://t.co/vSFmuPU5HW', 'Download and Install Lineage OS 16 On Nokia 6.1 2018 \\xa0| Android 9.0\\xa0Pie https://t.co/JOzUvay9dh https://t.co/QxkTx7fSwl', 'Nokia TA 1123 codenamed as Antman', '@NokiamobBlog  @mysmartprice @Nisha_NPU @ishanagarwal24   The Nokia TA-1140 On the Bluetooth launch studio for cert… https://t.co/ojQBr5G2cK', '@mehta_ajey sir Iam very dissatisfied that till now for Nokia 7.1 TPU case is not available since device was launch… https://t.co/3OtbmxcBh7', '@NokiamobBlog Nokia TA-1111 i.e Nokia passed the the FCC test https://t.co/XqyyjjTnpb', '@NokiamobileIN Nokia 1 pe may app icon badgets karna chati hu, ek launcher v lagaya but nahi huya apps icon notific… https://t.co/DWY3W66QK5', '@AmreliaRuhez Interest khatm ho gya hai Chinese products ke liye, iss liye abhi only Samsung or Nokia...', \"@T_manuel_ @NokiaMobile Nokia 5 (2017) isn't part of the Android One program.\", '@sarvikas Where is the android 9 pie update for Nokia 8', \"@Charg746 @aPatrickPGH @evleaks @spulci Nokia doesn't change anything on the surface, but there's a ton of evenwell… https://t.co/CNKh3MWk6y\", '@NokianChetan @NokiaMobile @NokiamobileIN @ZEISSLenses @Nokiapoweruser @NokiamobBlog @Vespa_IN @Vespa_Official… https://t.co/072gCqaGyf', '@NokiaMobile after update feb 19 security patch NOKIA 5.1 PLUS..all bugs has been solved ..thanks Nokia team https://t.co/AvhSSHgzTY', 'highest benchmark score of Nokia 5.1 Plus till date !!! after February update !! best in its segment… https://t.co/CCTbbchTRP', 'Nokia 108 Headphone Problem Solution https://t.co/bbA8WTSlKq https://t.co/Vk3eY2Fjla', '. @NokiamobileIN can you please let us know if you are planning to take Nokia 6.2 to India 🇮🇳 before March?\\n\\nBadly… https://t.co/gHWDPmurJn', '@ng1920 @Nokiapoweruser @sarvikas @NokiaMobile @nokia @NokiamobileIN @nokianetworks @NokiaFanss I had with this sam… https://t.co/5BcbFd5Ekt', '@NokianChetan @NokiaMobile @NokiamobileIN @mehta_ajey @sarvikas @DhingraRisha @TheShroffster @ZEISSLenses… https://t.co/QaUNwkXsjz', '@Nokiapoweruser wrong app my nokia 8.1 front cam show 4.9 mp https://t.co/74eVf1nUZc', \"@Uber_Support @UberEats_IND @dkhos Do remember even the mighty NOKIA couldn't stand customer wrath. This dumb CC wi… https://t.co/zwaIKrzr1f\", '#bhubaneswarbuzz #streets #odisha pic sent by  @udiptakumar07 ・・・\\n❤️ #piston #Holidays #Pedals #NeverEnough #Nokia… https://t.co/obAYbX1oMt', '@shameenyusafzai Agar mobile Nokia 3310 hai to phir koi hal nahi... Awr agar smart phone hai to Simple,, use OTG ca… https://t.co/FjoF7jJ1XN', '@uncomMonikesh Imagine using Nokia 1100 and it falls on Ur face... Boooom...', \"@sarvikas @NokiaMobile @mehta_ajey  Why Nokia 3.1 doesn't getting monthly security updates in India, while security… https://t.co/nIXOHkvuNG\", '@NokiamobBlog and forgetting the original Nokia 8 -_- so proud of HMD. Ditching Nokia brand soon. I wish I could undo buying this crap😡', 'Home of Nokia Northeast..', 'HMD Global cuts Nokia 2, Nokia 6 prices in Bangladesh\\xa0\\xa0Telecompaper Nokia brand licence owner HMD Global has reduce… https://t.co/3VTrXyIo0p', 'Universal Waterproof Case, JOTO CellPhone Dry Bag Pouch for Apple iPhone 6S, 6, 6S Plus, SE, 5S, Samsung Galaxy S7,… https://t.co/iWFfmFc7Zu', '@will_j Withings/Nokia are decent. Also Garmin.', 'Nokia 9 PureView with penta rear cameras gets certified by the FCC, could offer 64MP images https://t.co/5fLjsO4B4I', '@nokia_anew Please tell us the truth then.', '@nokia_anew Good, so no unnecessary camera module like the Samsung A9.', \"@Nayan_M_ @nokia_anew Don't be so salty. They just pointed out that the rumor isn't true.\", \"@Nokiapoweruser @nokia_anew They just said that the rumor is not true. How's that meaningless?\", \"@AndrewBorlaug @nokia_anew Nope it doesn't use IMX576. IMX576 is a mid to premium-mid segment sensor.\", \"@abrahampratomo @nokia_anew Yeah but it won't be adding up like that. I think it'll superimpose in a way to improve… https://t.co/pNNgySbbDH\", \"@gischethans Actually I use Nokia 6.1plus,but had to give it service centre as it's charging jack has become loose.… https://t.co/6x7z3AHBkb\", 'Nokia 9 PureView, Nokia 1 Plus Spotted on US FCC, Google Play Device List https://t.co/yYMLe1C1QX', '@8ap I like nokia 5.1 plus', 'By REUTERS Japanese e-commerce firm Rakuten has picked Nokia Oyj as a key partner for its new mobile network in Jap… https://t.co/1A1aOBYdDl', '@abrahampratomo @nokia_anew Because clickbait helps with ad revenue. 😛', 'I have done all answer of  #Quiztimemorningswithamazon and I have entered to win a Nokia 8.1 Thanks https://t.co/dg6dYz4r5L', '#QuizTimeMorningsWithAmazon\\n#I am eligible for Nokia 8.1 https://t.co/2PcrkDKV8o', '@NokiamobileIN @sarvikas @mehta_ajey @NokiaMobile Thank u 4 ur PATHETIC service &amp; PATHETIC FLAGSHIP DISPLAY of NOKI… https://t.co/GsE2361lI0', '#QuizTimeMorningsWithAmazon today i have given all the answer related to amazon quiz correctly hope i will win the… https://t.co/BGrwBwaFAX', '#QuizTimeMorningsWithAmazon\\nEligible for Nokia 8.1 https://t.co/P4pS9kvXm9', 'Nokia 9 PureView with penta rear cameras gets certified by the FCC, could offer 64MP images https://t.co/ODuSBlvaJG https://t.co/AGDkV4gRG4', '#QuizTimeMorningsWithAmazon \\nYipeeeee just cracked the quiz hope to win Nokia 8.1 ,love u Amazon https://t.co/gtQe6iZ5D4', \"Today's gift is Nokia 8.1\\n#QuizTimeMorningsWithAmazon\", \"Participate in today's #QuizTimeMorningsWithAmazon contest and win Nokia 8.1 https://t.co/OmmWVb75Zh\", 'Get a chance to win a Nokia device.\\n#Quiztimemorningswithamazon \\n😍😍❤️', 'FCC reveals some Nokia 9 PureView details, along with the Nokia 1 Plus user manual. https://t.co/tL6DBVsz08']\n"
     ]
    }
   ],
   "source": [
    "print(list_tweets)"
   ]
  },
  {
   "cell_type": "code",
   "execution_count": 33,
   "metadata": {},
   "outputs": [],
   "source": [
    "# Visualizing the results\n",
    "import matplotlib.pyplot as plt\n",
    "import numpy as np\n",
    "objects = ['Positive','Negative']\n",
    "y_pos = np.arange(len(objects))\n"
   ]
  },
  {
   "cell_type": "code",
   "execution_count": 34,
   "metadata": {},
   "outputs": [
    {
     "data": {
      "text/plain": [
       "Text(0.5,1,'Number of Postive and NEgative Tweets')"
      ]
     },
     "execution_count": 34,
     "metadata": {},
     "output_type": "execute_result"
    },
    {
     "data": {
      "image/png": "[encoded data removed]",
      "text/plain": [
       "<Figure size 432x288 with 1 Axes>"
      ]
     },
     "metadata": {
      "needs_background": "light"
     },
     "output_type": "display_data"
    }
   ],
   "source": [
    "\n",
    "plt.bar(y_pos,[total_pos,total_neg],alpha=0.5)\n",
    "plt.xticks(y_pos,objects)\n",
    "plt.ylabel('Number')\n",
    "plt.title('Number of Postive and NEgative Tweets')\n"
   ]
  },
  {
   "cell_type": "code",
   "execution_count": 35,
   "metadata": {},
   "outputs": [
    {
     "name": "stdout",
     "output_type": "stream",
     "text": [
      "29\n",
      "------\n",
      "71\n"
     ]
    }
   ],
   "source": [
    "print(total_neg)\n",
    "print(\"------\")\n",
    "print(total_pos)"
   ]
  },
  {
   "cell_type": "code",
   "execution_count": null,
   "metadata": {},
   "outputs": [],
   "source": []
  }
 ],
 "metadata": {
  "kernelspec": {
   "display_name": "Python 3",
   "language": "python",
   "name": "python3"
  },
  "language_info": {
   "codemirror_mode": {
    "name": "ipython",
    "version": 3
   },
   "file_extension": ".py",
   "mimetype": "text/x-python",
   "name": "python",
   "nbconvert_exporter": "python",
   "pygments_lexer": "ipython3",
   "version": "3.6.4"
  }
 },
 "nbformat": 4,
 "nbformat_minor": 2
}
